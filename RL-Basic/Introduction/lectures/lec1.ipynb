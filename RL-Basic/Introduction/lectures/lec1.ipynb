{
 "cells": [
  {
   "cell_type": "markdown",
   "metadata": {
    "collapsed": true,
    "slideshow": {
     "slide_type": "slide"
    }
   },
   "source": [
    "# Reinforcement Learning \n",
    "## MLU Session 7 - Berlin \n",
    "### Cyrus Vahid - Deep Engine\n",
    "cyrusmv@amazon.com"
   ]
  },
  {
   "cell_type": "markdown",
   "metadata": {
    "collapsed": true,
    "slideshow": {
     "slide_type": "slide"
    }
   },
   "source": [
    "# Navigating in a grid\n",
    "[navigating twards a goal](./gridworld-game-with-goal.html)\n",
    "- Everytime you are moving horizontally you get a wind throwing you upwards.\n",
    "- Everytime you are moving vertically you get a wind throwing you to the left.\n",
    "- Whenever the countdown reaches 0, you loose.\n",
    "- You win when you reach the green cell"
   ]
  },
  {
   "cell_type": "markdown",
   "metadata": {
    "slideshow": {
     "slide_type": "slide"
    }
   },
   "source": [
    "# RL Elements"
   ]
  },
  {
   "cell_type": "markdown",
   "metadata": {
    "slideshow": {
     "slide_type": "fragment"
    }
   },
   "source": [
    "- Agent: Learner or decision maker\n",
    "- Environment: What the agent interacts with. The environment could be known, unknown, or complex.\n",
    "- Policy: A set of actions from which an agent can choose. In our example: Left-Right-Up-Down\n",
    "- Action: Decisions an agent makes based on a policy in response to the environment. \n",
    "- State: The information that is used to determine what happens next.\n",
    "- Reward: After each action the environment returns a new sate and a reward."
   ]
  },
  {
   "cell_type": "code",
   "execution_count": null,
   "metadata": {},
   "outputs": [],
   "source": []
  }
 ],
 "metadata": {
  "celltoolbar": "Slideshow",
  "kernelspec": {
   "display_name": "Python 3",
   "language": "python",
   "name": "python3"
  },
  "language_info": {
   "codemirror_mode": {
    "name": "ipython",
    "version": 3
   },
   "file_extension": ".py",
   "mimetype": "text/x-python",
   "name": "python",
   "nbconvert_exporter": "python",
   "pygments_lexer": "ipython3",
   "version": "3.6.6"
  }
 },
 "nbformat": 4,
 "nbformat_minor": 1
}
